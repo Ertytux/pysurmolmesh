{
 "cells": [
  {
   "cell_type": "code",
   "execution_count": null,
   "metadata": {},
   "outputs": [],
   "source": [
    "%matplotlib inline"
   ]
  },
  {
   "cell_type": "code",
   "execution_count": null,
   "metadata": {},
   "outputs": [],
   "source": [
    "import sys\n",
    "sys.path.append(\"..\")\n",
    "import os\n",
    "os.environ[\"OMP_NUM_THREADS\"] = \"4\" # export OMP_NUM_THREADS=4\n",
    "os.environ[\"OPENBLAS_NUM_THREADS\"] = \"4\" # export OPENBLAS_NUM_THREADS=4 \n",
    "os.environ[\"MKL_NUM_THREADS\"] = \"4\" # export MKL_NUM_THREADS=4\n",
    "os.environ[\"VECLIB_MAXIMUM_THREADS\"] = \"4\" # export VECLIB_MAXIMUM_THREADS=4\n",
    "os.environ[\"NUMEXPR_NUM_THREADS\"] = \"4\" # export NUMEXPR_NUM_THREADS=4\n",
    "import mkl\n",
    "mkl.set_num_threads(4) #enforce\n",
    "\n",
    "import numpy as np\n",
    "from mpl_toolkits.mplot3d import Axes3D\n",
    "import matplotlib.pyplot as plt\n",
    "import molmeshtool.spheremesh as sp\n",
    "\n",
    "\n",
    "\n"
   ]
  },
  {
   "cell_type": "code",
   "execution_count": null,
   "metadata": {},
   "outputs": [],
   "source": [
    "rg=12\n",
    "pts,bl,trigs,err=sp.genSphereMesh(1.0,rg)\n",
    "fig = plt.figure()\n",
    "ax = fig.add_subplot(111, projection='3d')\n",
    "ax.scatter(pts[:,0],pts[:,1],pts[:,2],marker='o')\n",
    "ax.set_xlabel(\"X\")\n",
    "ax.set_ylabel(\"Y\")\n",
    "ax.set_zlabel(\"Z\")\n",
    "for blt in bl:\n",
    "    pbeg=blt[0]\n",
    "    pend=blt[1]\n",
    "    ax.plot([pts[pbeg,0],pts[pend,0]],[pts[pbeg,1],pts[pend,1]],[pts[pbeg,2],pts[pend,2]],color='k')\n",
    "#fig.show()\n",
    "print(\"Sphere of range \",rg, \" has \",pts.shape[0],\" points\")"
   ]
  },
  {
   "cell_type": "code",
   "execution_count": null,
   "metadata": {},
   "outputs": [],
   "source": [
    "print(\"Faces of \",trigs.shape[0],\" Triangles index vertices for \",pts.shape[0],\"points (2(N-2)) \\n\", trigs)\n",
    "print(\"bond relative displacement \",err)"
   ]
  },
  {
   "cell_type": "code",
   "execution_count": null,
   "metadata": {},
   "outputs": [],
   "source": [
    "from molmeshtool.genatomview import genAtomView\n",
    "import vpython as vp\n",
    "#radiusv=list(0.1 for i in range(pts.shape[0]))\n",
    "#colors=list(vp.color.blue for i in range(pts.shape[0]))\n",
    "#sh,bk=genAtomView(pts,np.array(radiusv),colors,bl)"
   ]
  },
  {
   "cell_type": "code",
   "execution_count": null,
   "metadata": {},
   "outputs": [],
   "source": [
    "ncoor=np.array([[-1,0,0],[0,1,1],[1,0.5,0.5],[2,0,1],[4,4,4]])\n",
    "rdlis=np.array([1.5,1.5,1.5,1.5,1.5])"
   ]
  },
  {
   "cell_type": "code",
   "execution_count": null,
   "metadata": {},
   "outputs": [],
   "source": [
    "import molmeshtool.proctools as mpt"
   ]
  },
  {
   "cell_type": "code",
   "execution_count": null,
   "metadata": {},
   "outputs": [],
   "source": [
    "vsi=mpt.VesicleGenerator(ncoor,rdlis)"
   ]
  },
  {
   "cell_type": "code",
   "execution_count": null,
   "metadata": {},
   "outputs": [],
   "source": [
    "pts2,bl2,trigs2,err2=vsi.generator3(2)"
   ]
  },
  {
   "cell_type": "code",
   "execution_count": null,
   "metadata": {},
   "outputs": [],
   "source": [
    "radiusv2=list(0.1 for i in range(pts2.shape[0]))\n",
    "colors2=list(vp.color.blue for i in range(pts2.shape[0]))\n",
    "sh,bk=genAtomView(pts2,np.array(radiusv2),colors2,bl2)\n",
    "sh2,bk2=genAtomView(ncoor,rdlis)"
   ]
  },
  {
   "cell_type": "code",
   "execution_count": null,
   "metadata": {},
   "outputs": [],
   "source": [
    "print(err2)"
   ]
  },
  {
   "cell_type": "code",
   "execution_count": null,
   "metadata": {},
   "outputs": [],
   "source": [
    "print(trigs2)"
   ]
  },
  {
   "cell_type": "code",
   "execution_count": null,
   "metadata": {},
   "outputs": [],
   "source": [
    "fig2 = plt.figure()\n",
    "bx = fig2.add_subplot(111, projection='3d')\n",
    "bx.scatter(pts2[:,0],pts2[:,1],pts2[:,2],marker='o',s=500)\n",
    "bx.set_xlabel(\"X\")\n",
    "bx.set_ylabel(\"Y\")\n",
    "bx.set_zlabel(\"Z\")\n",
    "for blt in bl2:\n",
    "    pbeg=blt[0]\n",
    "    pend=blt[1]\n",
    "    bx.plot([pts2[pbeg,0],pts2[pend,0]],[pts2[pbeg,1],pts2[pend,1]],[pts2[pbeg,2],pts2[pend,2]],color='k')\n",
    "fig2.show()"
   ]
  },
  {
   "cell_type": "code",
   "execution_count": null,
   "metadata": {},
   "outputs": [],
   "source": [
    "import molmeshtool.loadPDB as lpd"
   ]
  },
  {
   "cell_type": "code",
   "execution_count": null,
   "metadata": {},
   "outputs": [],
   "source": [
    "filename=\"/home/edisel/Documentos/Repositorio/ProyectosLocales/ECVM/Ligandos/P02741/1gnhSingle.pdb\"\n",
    "atypes,apos,aradi=lpd.loadPDB(filename)"
   ]
  },
  {
   "cell_type": "code",
   "execution_count": null,
   "metadata": {},
   "outputs": [],
   "source": [
    "vsi2=mpt.VesicleGenerator(apos,aradi)\n",
    "pts3,bl3,trigs3,err3=vsi2.generator3(4)"
   ]
  },
  {
   "cell_type": "code",
   "execution_count": null,
   "metadata": {},
   "outputs": [],
   "source": [
    "fig3 = plt.figure()\n",
    "cx = fig3.add_subplot(111, projection='3d')\n",
    "cx.scatter(pts3[:,0],pts3[:,1],pts3[:,2],marker='o',s=100)\n",
    "cx.scatter(apos[:,0],apos[:,1],apos[:,2],marker=\"+\")\n",
    "cx.set_xlabel(\"X\")\n",
    "cx.set_ylabel(\"Y\")\n",
    "cx.set_zlabel(\"Z\")\n",
    "for blt in bl3:\n",
    "    pbeg=blt[0]\n",
    "    pend=blt[1]\n",
    "    cx.plot([pts3[pbeg,0],pts3[pend,0]],[pts3[pbeg,1],pts3[pend,1]],[pts3[pbeg,2],pts3[pend,2]],color='k')\n",
    "fig3.show()"
   ]
  },
  {
   "cell_type": "code",
   "execution_count": null,
   "metadata": {},
   "outputs": [],
   "source": []
  }
 ],
 "metadata": {
  "kernelspec": {
   "display_name": "Python 3",
   "language": "python",
   "name": "python3"
  },
  "language_info": {
   "codemirror_mode": {
    "name": "ipython",
    "version": 3
   },
   "file_extension": ".py",
   "mimetype": "text/x-python",
   "name": "python",
   "nbconvert_exporter": "python",
   "pygments_lexer": "ipython3",
   "version": "3.8.10"
  },
  "stem_cell": {
   "cell_type": "raw",
   "metadata": {
    "pycharm": {
     "metadata": false
    }
   },
   "source": "%matplotlib notebook\nrun(test.py)\n"
  },
  "toc": {
   "base_numbering": 1,
   "nav_menu": {},
   "number_sections": true,
   "sideBar": true,
   "skip_h1_title": false,
   "title_cell": "Table of Contents",
   "title_sidebar": "Contents",
   "toc_cell": false,
   "toc_position": {},
   "toc_section_display": true,
   "toc_window_display": false
  }
 },
 "nbformat": 4,
 "nbformat_minor": 1
}
